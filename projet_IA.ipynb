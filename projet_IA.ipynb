{
 "cells": [
  {
   "cell_type": "code",
   "execution_count": 1,
   "metadata": {},
   "outputs": [],
   "source": [
    "from __future__ import division\n",
    "import matplotlib.pyplot as plt\n",
    "import pandas as pds\n",
    "import seaborn as sns\n",
    "import numpy as np\n",
    "import random\n",
    "from sklearn.cluster import KMeans, AgglomerativeClustering\n",
    "from sklearn import metrics\n",
    "from scipy import stats\n",
    "%matplotlib inline\n",
    "np.random.seed(10)\n",
    "random.seed(10)"
   ]
  },
  {
   "cell_type": "code",
   "execution_count": 2,
   "metadata": {},
   "outputs": [],
   "source": [
    "df = pds.read_csv('data2.txt',sep='\\t')\n"
   ]
  },
  {
   "cell_type": "code",
   "execution_count": 3,
   "metadata": {},
   "outputs": [
    {
     "data": {
      "text/html": [
       "<div>\n",
       "<style scoped>\n",
       "    .dataframe tbody tr th:only-of-type {\n",
       "        vertical-align: middle;\n",
       "    }\n",
       "\n",
       "    .dataframe tbody tr th {\n",
       "        vertical-align: top;\n",
       "    }\n",
       "\n",
       "    .dataframe thead th {\n",
       "        text-align: right;\n",
       "    }\n",
       "</style>\n",
       "<table border=\"1\" class=\"dataframe\">\n",
       "  <thead>\n",
       "    <tr style=\"text-align: right;\">\n",
       "      <th></th>\n",
       "      <th>Time</th>\n",
       "      <th>Time Code</th>\n",
       "      <th>Country Name</th>\n",
       "      <th>Country Code</th>\n",
       "      <th>Adjusted net national income (current US$) [NY.ADJ.NNTY.CD]</th>\n",
       "      <th>Air transport, passengers carried [IS.AIR.PSGR]</th>\n",
       "      <th>Average precipitation in depth (mm per year) [AG.LND.PRCP.MM]</th>\n",
       "      <th>Employment in industry (% of total employment) (modeled ILO estimate) [SL.IND.EMPL.ZS]</th>\n",
       "      <th>Fertility rate, total (births per woman) [SP.DYN.TFRT.IN]</th>\n",
       "      <th>Food exports (% of merchandise exports) [TX.VAL.FOOD.ZS.UN]</th>\n",
       "      <th>Forest area (% of land area) [AG.LND.FRST.ZS]</th>\n",
       "      <th>Individuals using the Internet (% of population) [IT.NET.USER.ZS]</th>\n",
       "      <th>Land area (sq. km) [AG.LND.TOTL.K2]</th>\n",
       "      <th>Life expectancy at birth, total (years) [SP.DYN.LE00.IN]</th>\n",
       "      <th>GDP (current US$) [NY.GDP.MKTP.CD]</th>\n",
       "      <th>International tourism, number of arrivals [ST.INT.ARVL]</th>\n",
       "    </tr>\n",
       "  </thead>\n",
       "  <tbody>\n",
       "    <tr>\n",
       "      <th>0</th>\n",
       "      <td>2012</td>\n",
       "      <td>YR2012</td>\n",
       "      <td>Afghanistan</td>\n",
       "      <td>AFG</td>\n",
       "      <td>1.812556e+10</td>\n",
       "      <td>1.737962e+06</td>\n",
       "      <td>327.0</td>\n",
       "      <td>6.298000</td>\n",
       "      <td>5.380</td>\n",
       "      <td>17.437223</td>\n",
       "      <td>2.067825</td>\n",
       "      <td>5.454545</td>\n",
       "      <td>652860.0</td>\n",
       "      <td>62.086</td>\n",
       "      <td>2.053654e+10</td>\n",
       "      <td>NaN</td>\n",
       "    </tr>\n",
       "    <tr>\n",
       "      <th>1</th>\n",
       "      <td>2012</td>\n",
       "      <td>YR2012</td>\n",
       "      <td>Albania</td>\n",
       "      <td>ALB</td>\n",
       "      <td>1.056092e+10</td>\n",
       "      <td>8.143397e+05</td>\n",
       "      <td>1485.0</td>\n",
       "      <td>16.542999</td>\n",
       "      <td>1.685</td>\n",
       "      <td>4.577602</td>\n",
       "      <td>28.262044</td>\n",
       "      <td>54.655959</td>\n",
       "      <td>27400.0</td>\n",
       "      <td>77.389</td>\n",
       "      <td>1.231978e+10</td>\n",
       "      <td>3156000.0</td>\n",
       "    </tr>\n",
       "    <tr>\n",
       "      <th>2</th>\n",
       "      <td>2012</td>\n",
       "      <td>YR2012</td>\n",
       "      <td>Algeria</td>\n",
       "      <td>DZA</td>\n",
       "      <td>1.660026e+11</td>\n",
       "      <td>4.082595e+06</td>\n",
       "      <td>89.0</td>\n",
       "      <td>40.745998</td>\n",
       "      <td>2.936</td>\n",
       "      <td>0.445065</td>\n",
       "      <td>0.811675</td>\n",
       "      <td>18.200000</td>\n",
       "      <td>2381740.0</td>\n",
       "      <td>75.187</td>\n",
       "      <td>2.090590e+11</td>\n",
       "      <td>2634000.0</td>\n",
       "    </tr>\n",
       "    <tr>\n",
       "      <th>3</th>\n",
       "      <td>2012</td>\n",
       "      <td>YR2012</td>\n",
       "      <td>American Samoa</td>\n",
       "      <td>ASM</td>\n",
       "      <td>NaN</td>\n",
       "      <td>5.609698e+04</td>\n",
       "      <td>NaN</td>\n",
       "      <td>NaN</td>\n",
       "      <td>NaN</td>\n",
       "      <td>NaN</td>\n",
       "      <td>88.200000</td>\n",
       "      <td>NaN</td>\n",
       "      <td>200.0</td>\n",
       "      <td>NaN</td>\n",
       "      <td>6.440000e+08</td>\n",
       "      <td>22600.0</td>\n",
       "    </tr>\n",
       "    <tr>\n",
       "      <th>4</th>\n",
       "      <td>2012</td>\n",
       "      <td>YR2012</td>\n",
       "      <td>Andorra</td>\n",
       "      <td>AND</td>\n",
       "      <td>NaN</td>\n",
       "      <td>NaN</td>\n",
       "      <td>NaN</td>\n",
       "      <td>NaN</td>\n",
       "      <td>NaN</td>\n",
       "      <td>1.221122</td>\n",
       "      <td>34.042553</td>\n",
       "      <td>86.434425</td>\n",
       "      <td>470.0</td>\n",
       "      <td>NaN</td>\n",
       "      <td>3.164615e+09</td>\n",
       "      <td>2238000.0</td>\n",
       "    </tr>\n",
       "  </tbody>\n",
       "</table>\n",
       "</div>"
      ],
      "text/plain": [
       "   Time Time Code    Country Name Country Code  \\\n",
       "0  2012    YR2012     Afghanistan          AFG   \n",
       "1  2012    YR2012         Albania          ALB   \n",
       "2  2012    YR2012         Algeria          DZA   \n",
       "3  2012    YR2012  American Samoa          ASM   \n",
       "4  2012    YR2012         Andorra          AND   \n",
       "\n",
       "   Adjusted net national income (current US$) [NY.ADJ.NNTY.CD]  \\\n",
       "0                                       1.812556e+10             \n",
       "1                                       1.056092e+10             \n",
       "2                                       1.660026e+11             \n",
       "3                                                NaN             \n",
       "4                                                NaN             \n",
       "\n",
       "   Air transport, passengers carried [IS.AIR.PSGR]  \\\n",
       "0                                     1.737962e+06   \n",
       "1                                     8.143397e+05   \n",
       "2                                     4.082595e+06   \n",
       "3                                     5.609698e+04   \n",
       "4                                              NaN   \n",
       "\n",
       "   Average precipitation in depth (mm per year) [AG.LND.PRCP.MM]  \\\n",
       "0                                              327.0               \n",
       "1                                             1485.0               \n",
       "2                                               89.0               \n",
       "3                                                NaN               \n",
       "4                                                NaN               \n",
       "\n",
       "   Employment in industry (% of total employment) (modeled ILO estimate) [SL.IND.EMPL.ZS]  \\\n",
       "0                                           6.298000                                        \n",
       "1                                          16.542999                                        \n",
       "2                                          40.745998                                        \n",
       "3                                                NaN                                        \n",
       "4                                                NaN                                        \n",
       "\n",
       "   Fertility rate, total (births per woman) [SP.DYN.TFRT.IN]  \\\n",
       "0                                              5.380           \n",
       "1                                              1.685           \n",
       "2                                              2.936           \n",
       "3                                                NaN           \n",
       "4                                                NaN           \n",
       "\n",
       "   Food exports (% of merchandise exports) [TX.VAL.FOOD.ZS.UN]  \\\n",
       "0                                          17.437223             \n",
       "1                                           4.577602             \n",
       "2                                           0.445065             \n",
       "3                                                NaN             \n",
       "4                                           1.221122             \n",
       "\n",
       "   Forest area (% of land area) [AG.LND.FRST.ZS]  \\\n",
       "0                                       2.067825   \n",
       "1                                      28.262044   \n",
       "2                                       0.811675   \n",
       "3                                      88.200000   \n",
       "4                                      34.042553   \n",
       "\n",
       "   Individuals using the Internet (% of population) [IT.NET.USER.ZS]  \\\n",
       "0                                           5.454545                   \n",
       "1                                          54.655959                   \n",
       "2                                          18.200000                   \n",
       "3                                                NaN                   \n",
       "4                                          86.434425                   \n",
       "\n",
       "   Land area (sq. km) [AG.LND.TOTL.K2]  \\\n",
       "0                             652860.0   \n",
       "1                              27400.0   \n",
       "2                            2381740.0   \n",
       "3                                200.0   \n",
       "4                                470.0   \n",
       "\n",
       "   Life expectancy at birth, total (years) [SP.DYN.LE00.IN]  \\\n",
       "0                                             62.086          \n",
       "1                                             77.389          \n",
       "2                                             75.187          \n",
       "3                                                NaN          \n",
       "4                                                NaN          \n",
       "\n",
       "   GDP (current US$) [NY.GDP.MKTP.CD]  \\\n",
       "0                        2.053654e+10   \n",
       "1                        1.231978e+10   \n",
       "2                        2.090590e+11   \n",
       "3                        6.440000e+08   \n",
       "4                        3.164615e+09   \n",
       "\n",
       "   International tourism, number of arrivals [ST.INT.ARVL]  \n",
       "0                                                NaN        \n",
       "1                                          3156000.0        \n",
       "2                                          2634000.0        \n",
       "3                                            22600.0        \n",
       "4                                          2238000.0        "
      ]
     },
     "execution_count": 3,
     "metadata": {},
     "output_type": "execute_result"
    }
   ],
   "source": [
    "df.head()"
   ]
  },
  {
   "cell_type": "code",
   "execution_count": 4,
   "metadata": {},
   "outputs": [
    {
     "data": {
      "text/plain": [
       "Time                                                                                       3\n",
       "Time Code                                                                                  5\n",
       "Country Name                                                                               5\n",
       "Country Code                                                                               5\n",
       "Adjusted net national income (current US$) [NY.ADJ.NNTY.CD]                               51\n",
       "Air transport, passengers carried [IS.AIR.PSGR]                                           64\n",
       "Average precipitation in depth (mm per year) [AG.LND.PRCP.MM]                             78\n",
       "Employment in industry (% of total employment) (modeled ILO estimate) [SL.IND.EMPL.ZS]    36\n",
       "Fertility rate, total (births per woman) [SP.DYN.TFRT.IN]                                 21\n",
       "Food exports (% of merchandise exports) [TX.VAL.FOOD.ZS.UN]                               67\n",
       "Forest area (% of land area) [AG.LND.FRST.ZS]                                             13\n",
       "Individuals using the Internet (% of population) [IT.NET.USER.ZS]                         20\n",
       "Land area (sq. km) [AG.LND.TOTL.K2]                                                        7\n",
       "Life expectancy at birth, total (years) [SP.DYN.LE00.IN]                                  22\n",
       "GDP (current US$) [NY.GDP.MKTP.CD]                                                        22\n",
       "International tourism, number of arrivals [ST.INT.ARVL]                                   29\n",
       "dtype: int64"
      ]
     },
     "execution_count": 4,
     "metadata": {},
     "output_type": "execute_result"
    }
   ],
   "source": [
    "df.isna().sum(axis=0)"
   ]
  },
  {
   "cell_type": "code",
   "execution_count": 5,
   "metadata": {},
   "outputs": [],
   "source": [
    "#dff = df.drop([\"Intentional homicides (per 100,000 people) [VC.IHR.PSRC.P5]\"],axis=1)\n",
    "#dff = dff.drop([\"Children out of school (% of primary school age) [SE.PRM.UNER.ZS]\"],axis=1)"
   ]
  },
  {
   "cell_type": "code",
   "execution_count": 6,
   "metadata": {},
   "outputs": [],
   "source": [
    "#dff.head()"
   ]
  },
  {
   "cell_type": "code",
   "execution_count": 7,
   "metadata": {},
   "outputs": [],
   "source": [
    "df = df.set_index([\"Country Name\", \"Country Code\"])"
   ]
  },
  {
   "cell_type": "code",
   "execution_count": 8,
   "metadata": {},
   "outputs": [
    {
     "data": {
      "text/plain": [
       "(269, 14)"
      ]
     },
     "execution_count": 8,
     "metadata": {},
     "output_type": "execute_result"
    }
   ],
   "source": [
    "df.shape"
   ]
  },
  {
   "cell_type": "code",
   "execution_count": 9,
   "metadata": {},
   "outputs": [],
   "source": [
    "df = df.dropna()"
   ]
  },
  {
   "cell_type": "code",
   "execution_count": 10,
   "metadata": {},
   "outputs": [
    {
     "data": {
      "text/plain": [
       "(125, 14)"
      ]
     },
     "execution_count": 10,
     "metadata": {},
     "output_type": "execute_result"
    }
   ],
   "source": [
    "df.shape"
   ]
  },
  {
   "cell_type": "code",
   "execution_count": 11,
   "metadata": {},
   "outputs": [
    {
     "data": {
      "text/html": [
       "<div>\n",
       "<style scoped>\n",
       "    .dataframe tbody tr th:only-of-type {\n",
       "        vertical-align: middle;\n",
       "    }\n",
       "\n",
       "    .dataframe tbody tr th {\n",
       "        vertical-align: top;\n",
       "    }\n",
       "\n",
       "    .dataframe thead th {\n",
       "        text-align: right;\n",
       "    }\n",
       "</style>\n",
       "<table border=\"1\" class=\"dataframe\">\n",
       "  <thead>\n",
       "    <tr style=\"text-align: right;\">\n",
       "      <th></th>\n",
       "      <th></th>\n",
       "      <th>Time</th>\n",
       "      <th>Time Code</th>\n",
       "      <th>Adjusted net national income (current US$) [NY.ADJ.NNTY.CD]</th>\n",
       "      <th>Air transport, passengers carried [IS.AIR.PSGR]</th>\n",
       "      <th>Average precipitation in depth (mm per year) [AG.LND.PRCP.MM]</th>\n",
       "      <th>Employment in industry (% of total employment) (modeled ILO estimate) [SL.IND.EMPL.ZS]</th>\n",
       "      <th>Fertility rate, total (births per woman) [SP.DYN.TFRT.IN]</th>\n",
       "      <th>Food exports (% of merchandise exports) [TX.VAL.FOOD.ZS.UN]</th>\n",
       "      <th>Forest area (% of land area) [AG.LND.FRST.ZS]</th>\n",
       "      <th>Individuals using the Internet (% of population) [IT.NET.USER.ZS]</th>\n",
       "      <th>Land area (sq. km) [AG.LND.TOTL.K2]</th>\n",
       "      <th>Life expectancy at birth, total (years) [SP.DYN.LE00.IN]</th>\n",
       "      <th>GDP (current US$) [NY.GDP.MKTP.CD]</th>\n",
       "      <th>International tourism, number of arrivals [ST.INT.ARVL]</th>\n",
       "    </tr>\n",
       "    <tr>\n",
       "      <th>Country Name</th>\n",
       "      <th>Country Code</th>\n",
       "      <th></th>\n",
       "      <th></th>\n",
       "      <th></th>\n",
       "      <th></th>\n",
       "      <th></th>\n",
       "      <th></th>\n",
       "      <th></th>\n",
       "      <th></th>\n",
       "      <th></th>\n",
       "      <th></th>\n",
       "      <th></th>\n",
       "      <th></th>\n",
       "      <th></th>\n",
       "      <th></th>\n",
       "    </tr>\n",
       "  </thead>\n",
       "  <tbody>\n",
       "    <tr>\n",
       "      <th>Albania</th>\n",
       "      <th>ALB</th>\n",
       "      <td>2012</td>\n",
       "      <td>YR2012</td>\n",
       "      <td>1.056092e+10</td>\n",
       "      <td>8.143397e+05</td>\n",
       "      <td>1485.0</td>\n",
       "      <td>16.542999</td>\n",
       "      <td>1.685</td>\n",
       "      <td>4.577602</td>\n",
       "      <td>28.262044</td>\n",
       "      <td>54.655959</td>\n",
       "      <td>27400.0</td>\n",
       "      <td>77.389</td>\n",
       "      <td>1.231978e+10</td>\n",
       "      <td>3156000.0</td>\n",
       "    </tr>\n",
       "    <tr>\n",
       "      <th>Algeria</th>\n",
       "      <th>DZA</th>\n",
       "      <td>2012</td>\n",
       "      <td>YR2012</td>\n",
       "      <td>1.660026e+11</td>\n",
       "      <td>4.082595e+06</td>\n",
       "      <td>89.0</td>\n",
       "      <td>40.745998</td>\n",
       "      <td>2.936</td>\n",
       "      <td>0.445065</td>\n",
       "      <td>0.811675</td>\n",
       "      <td>18.200000</td>\n",
       "      <td>2381740.0</td>\n",
       "      <td>75.187</td>\n",
       "      <td>2.090590e+11</td>\n",
       "      <td>2634000.0</td>\n",
       "    </tr>\n",
       "    <tr>\n",
       "      <th>Angola</th>\n",
       "      <th>AGO</th>\n",
       "      <td>2012</td>\n",
       "      <td>YR2012</td>\n",
       "      <td>3.730638e+10</td>\n",
       "      <td>1.132424e+06</td>\n",
       "      <td>1010.0</td>\n",
       "      <td>8.601000</td>\n",
       "      <td>6.000</td>\n",
       "      <td>0.063120</td>\n",
       "      <td>46.707628</td>\n",
       "      <td>6.500000</td>\n",
       "      <td>1246700.0</td>\n",
       "      <td>59.770</td>\n",
       "      <td>1.139232e+11</td>\n",
       "      <td>528000.0</td>\n",
       "    </tr>\n",
       "    <tr>\n",
       "      <th>Argentina</th>\n",
       "      <th>ARG</th>\n",
       "      <td>2012</td>\n",
       "      <td>YR2012</td>\n",
       "      <td>4.710316e+11</td>\n",
       "      <td>9.375670e+06</td>\n",
       "      <td>591.0</td>\n",
       "      <td>23.656000</td>\n",
       "      <td>2.347</td>\n",
       "      <td>53.663431</td>\n",
       "      <td>10.232215</td>\n",
       "      <td>55.800000</td>\n",
       "      <td>2736690.0</td>\n",
       "      <td>75.926</td>\n",
       "      <td>5.459824e+11</td>\n",
       "      <td>5587000.0</td>\n",
       "    </tr>\n",
       "    <tr>\n",
       "      <th>Armenia</th>\n",
       "      <th>ARM</th>\n",
       "      <td>2012</td>\n",
       "      <td>YR2012</td>\n",
       "      <td>9.453687e+09</td>\n",
       "      <td>3.647330e+05</td>\n",
       "      <td>562.0</td>\n",
       "      <td>17.691999</td>\n",
       "      <td>1.664</td>\n",
       "      <td>25.920984</td>\n",
       "      <td>11.640323</td>\n",
       "      <td>37.500000</td>\n",
       "      <td>28470.0</td>\n",
       "      <td>73.814</td>\n",
       "      <td>1.061932e+10</td>\n",
       "      <td>963000.0</td>\n",
       "    </tr>\n",
       "  </tbody>\n",
       "</table>\n",
       "</div>"
      ],
      "text/plain": [
       "                           Time Time Code  \\\n",
       "Country Name Country Code                   \n",
       "Albania      ALB           2012    YR2012   \n",
       "Algeria      DZA           2012    YR2012   \n",
       "Angola       AGO           2012    YR2012   \n",
       "Argentina    ARG           2012    YR2012   \n",
       "Armenia      ARM           2012    YR2012   \n",
       "\n",
       "                           Adjusted net national income (current US$) [NY.ADJ.NNTY.CD]  \\\n",
       "Country Name Country Code                                                                \n",
       "Albania      ALB                                                1.056092e+10             \n",
       "Algeria      DZA                                                1.660026e+11             \n",
       "Angola       AGO                                                3.730638e+10             \n",
       "Argentina    ARG                                                4.710316e+11             \n",
       "Armenia      ARM                                                9.453687e+09             \n",
       "\n",
       "                           Air transport, passengers carried [IS.AIR.PSGR]  \\\n",
       "Country Name Country Code                                                    \n",
       "Albania      ALB                                              8.143397e+05   \n",
       "Algeria      DZA                                              4.082595e+06   \n",
       "Angola       AGO                                              1.132424e+06   \n",
       "Argentina    ARG                                              9.375670e+06   \n",
       "Armenia      ARM                                              3.647330e+05   \n",
       "\n",
       "                           Average precipitation in depth (mm per year) [AG.LND.PRCP.MM]  \\\n",
       "Country Name Country Code                                                                  \n",
       "Albania      ALB                                                      1485.0               \n",
       "Algeria      DZA                                                        89.0               \n",
       "Angola       AGO                                                      1010.0               \n",
       "Argentina    ARG                                                       591.0               \n",
       "Armenia      ARM                                                       562.0               \n",
       "\n",
       "                           Employment in industry (% of total employment) (modeled ILO estimate) [SL.IND.EMPL.ZS]  \\\n",
       "Country Name Country Code                                                                                           \n",
       "Albania      ALB                                                   16.542999                                        \n",
       "Algeria      DZA                                                   40.745998                                        \n",
       "Angola       AGO                                                    8.601000                                        \n",
       "Argentina    ARG                                                   23.656000                                        \n",
       "Armenia      ARM                                                   17.691999                                        \n",
       "\n",
       "                           Fertility rate, total (births per woman) [SP.DYN.TFRT.IN]  \\\n",
       "Country Name Country Code                                                              \n",
       "Albania      ALB                                                       1.685           \n",
       "Algeria      DZA                                                       2.936           \n",
       "Angola       AGO                                                       6.000           \n",
       "Argentina    ARG                                                       2.347           \n",
       "Armenia      ARM                                                       1.664           \n",
       "\n",
       "                           Food exports (% of merchandise exports) [TX.VAL.FOOD.ZS.UN]  \\\n",
       "Country Name Country Code                                                                \n",
       "Albania      ALB                                                    4.577602             \n",
       "Algeria      DZA                                                    0.445065             \n",
       "Angola       AGO                                                    0.063120             \n",
       "Argentina    ARG                                                   53.663431             \n",
       "Armenia      ARM                                                   25.920984             \n",
       "\n",
       "                           Forest area (% of land area) [AG.LND.FRST.ZS]  \\\n",
       "Country Name Country Code                                                  \n",
       "Albania      ALB                                               28.262044   \n",
       "Algeria      DZA                                                0.811675   \n",
       "Angola       AGO                                               46.707628   \n",
       "Argentina    ARG                                               10.232215   \n",
       "Armenia      ARM                                               11.640323   \n",
       "\n",
       "                           Individuals using the Internet (% of population) [IT.NET.USER.ZS]  \\\n",
       "Country Name Country Code                                                                      \n",
       "Albania      ALB                                                   54.655959                   \n",
       "Algeria      DZA                                                   18.200000                   \n",
       "Angola       AGO                                                    6.500000                   \n",
       "Argentina    ARG                                                   55.800000                   \n",
       "Armenia      ARM                                                   37.500000                   \n",
       "\n",
       "                           Land area (sq. km) [AG.LND.TOTL.K2]  \\\n",
       "Country Name Country Code                                        \n",
       "Albania      ALB                                       27400.0   \n",
       "Algeria      DZA                                     2381740.0   \n",
       "Angola       AGO                                     1246700.0   \n",
       "Argentina    ARG                                     2736690.0   \n",
       "Armenia      ARM                                       28470.0   \n",
       "\n",
       "                           Life expectancy at birth, total (years) [SP.DYN.LE00.IN]  \\\n",
       "Country Name Country Code                                                             \n",
       "Albania      ALB                                                      77.389          \n",
       "Algeria      DZA                                                      75.187          \n",
       "Angola       AGO                                                      59.770          \n",
       "Argentina    ARG                                                      75.926          \n",
       "Armenia      ARM                                                      73.814          \n",
       "\n",
       "                           GDP (current US$) [NY.GDP.MKTP.CD]  \\\n",
       "Country Name Country Code                                       \n",
       "Albania      ALB                                 1.231978e+10   \n",
       "Algeria      DZA                                 2.090590e+11   \n",
       "Angola       AGO                                 1.139232e+11   \n",
       "Argentina    ARG                                 5.459824e+11   \n",
       "Armenia      ARM                                 1.061932e+10   \n",
       "\n",
       "                           International tourism, number of arrivals [ST.INT.ARVL]  \n",
       "Country Name Country Code                                                           \n",
       "Albania      ALB                                                   3156000.0        \n",
       "Algeria      DZA                                                   2634000.0        \n",
       "Angola       AGO                                                    528000.0        \n",
       "Argentina    ARG                                                   5587000.0        \n",
       "Armenia      ARM                                                    963000.0        "
      ]
     },
     "execution_count": 11,
     "metadata": {},
     "output_type": "execute_result"
    }
   ],
   "source": [
    "df.head()"
   ]
  },
  {
   "cell_type": "code",
   "execution_count": 12,
   "metadata": {},
   "outputs": [],
   "source": [
    "dff = df.drop([\"Time\"], axis=1)"
   ]
  },
  {
   "cell_type": "code",
   "execution_count": 13,
   "metadata": {},
   "outputs": [],
   "source": [
    "dff = dff.drop([\"Time Code\"], axis=1)"
   ]
  },
  {
   "cell_type": "code",
   "execution_count": 14,
   "metadata": {},
   "outputs": [
    {
     "data": {
      "text/html": [
       "<div>\n",
       "<style scoped>\n",
       "    .dataframe tbody tr th:only-of-type {\n",
       "        vertical-align: middle;\n",
       "    }\n",
       "\n",
       "    .dataframe tbody tr th {\n",
       "        vertical-align: top;\n",
       "    }\n",
       "\n",
       "    .dataframe thead th {\n",
       "        text-align: right;\n",
       "    }\n",
       "</style>\n",
       "<table border=\"1\" class=\"dataframe\">\n",
       "  <thead>\n",
       "    <tr style=\"text-align: right;\">\n",
       "      <th></th>\n",
       "      <th>Adjusted net national income (current US$) [NY.ADJ.NNTY.CD]</th>\n",
       "      <th>Air transport, passengers carried [IS.AIR.PSGR]</th>\n",
       "      <th>Average precipitation in depth (mm per year) [AG.LND.PRCP.MM]</th>\n",
       "      <th>Employment in industry (% of total employment) (modeled ILO estimate) [SL.IND.EMPL.ZS]</th>\n",
       "      <th>Fertility rate, total (births per woman) [SP.DYN.TFRT.IN]</th>\n",
       "      <th>Food exports (% of merchandise exports) [TX.VAL.FOOD.ZS.UN]</th>\n",
       "      <th>Forest area (% of land area) [AG.LND.FRST.ZS]</th>\n",
       "      <th>Individuals using the Internet (% of population) [IT.NET.USER.ZS]</th>\n",
       "      <th>Land area (sq. km) [AG.LND.TOTL.K2]</th>\n",
       "      <th>Life expectancy at birth, total (years) [SP.DYN.LE00.IN]</th>\n",
       "      <th>GDP (current US$) [NY.GDP.MKTP.CD]</th>\n",
       "      <th>International tourism, number of arrivals [ST.INT.ARVL]</th>\n",
       "    </tr>\n",
       "  </thead>\n",
       "  <tbody>\n",
       "    <tr>\n",
       "      <th>count</th>\n",
       "      <td>1.250000e+02</td>\n",
       "      <td>1.250000e+02</td>\n",
       "      <td>125.000000</td>\n",
       "      <td>125.000000</td>\n",
       "      <td>125.000000</td>\n",
       "      <td>125.000000</td>\n",
       "      <td>125.000000</td>\n",
       "      <td>125.000000</td>\n",
       "      <td>1.250000e+02</td>\n",
       "      <td>125.000000</td>\n",
       "      <td>1.250000e+02</td>\n",
       "      <td>1.250000e+02</td>\n",
       "    </tr>\n",
       "    <tr>\n",
       "      <th>mean</th>\n",
       "      <td>4.648238e+11</td>\n",
       "      <td>2.192107e+07</td>\n",
       "      <td>1167.144000</td>\n",
       "      <td>20.227216</td>\n",
       "      <td>2.698190</td>\n",
       "      <td>19.952205</td>\n",
       "      <td>32.911336</td>\n",
       "      <td>41.626827</td>\n",
       "      <td>8.885764e+05</td>\n",
       "      <td>71.808318</td>\n",
       "      <td>5.637589e+11</td>\n",
       "      <td>7.444791e+06</td>\n",
       "    </tr>\n",
       "    <tr>\n",
       "      <th>std</th>\n",
       "      <td>1.507424e+12</td>\n",
       "      <td>7.429768e+07</td>\n",
       "      <td>770.689655</td>\n",
       "      <td>7.930120</td>\n",
       "      <td>1.383543</td>\n",
       "      <td>18.942856</td>\n",
       "      <td>21.757971</td>\n",
       "      <td>27.633271</td>\n",
       "      <td>2.231898e+06</td>\n",
       "      <td>7.741353</td>\n",
       "      <td>1.785186e+12</td>\n",
       "      <td>1.350931e+07</td>\n",
       "    </tr>\n",
       "    <tr>\n",
       "      <th>min</th>\n",
       "      <td>6.011972e+08</td>\n",
       "      <td>0.000000e+00</td>\n",
       "      <td>51.000000</td>\n",
       "      <td>3.946000</td>\n",
       "      <td>1.269000</td>\n",
       "      <td>0.000000</td>\n",
       "      <td>0.006462</td>\n",
       "      <td>1.050000</td>\n",
       "      <td>7.060000e+02</td>\n",
       "      <td>51.463000</td>\n",
       "      <td>9.100262e+08</td>\n",
       "      <td>8.900000e+04</td>\n",
       "    </tr>\n",
       "    <tr>\n",
       "      <th>25%</th>\n",
       "      <td>1.352148e+10</td>\n",
       "      <td>5.931984e+05</td>\n",
       "      <td>593.000000</td>\n",
       "      <td>15.801000</td>\n",
       "      <td>1.664000</td>\n",
       "      <td>5.881806</td>\n",
       "      <td>13.397849</td>\n",
       "      <td>14.520000</td>\n",
       "      <td>5.596000e+04</td>\n",
       "      <td>67.377000</td>\n",
       "      <td>1.584647e+10</td>\n",
       "      <td>8.590000e+05</td>\n",
       "    </tr>\n",
       "    <tr>\n",
       "      <th>50%</th>\n",
       "      <td>4.194079e+10</td>\n",
       "      <td>2.206070e+06</td>\n",
       "      <td>1028.000000</td>\n",
       "      <td>20.171000</td>\n",
       "      <td>2.236000</td>\n",
       "      <td>14.522065</td>\n",
       "      <td>33.324829</td>\n",
       "      <td>40.301895</td>\n",
       "      <td>2.275400e+05</td>\n",
       "      <td>73.814000</td>\n",
       "      <td>5.656548e+10</td>\n",
       "      <td>2.156000e+06</td>\n",
       "    </tr>\n",
       "    <tr>\n",
       "      <th>75%</th>\n",
       "      <td>2.393276e+11</td>\n",
       "      <td>1.228956e+07</td>\n",
       "      <td>1705.000000</td>\n",
       "      <td>25.083000</td>\n",
       "      <td>3.072000</td>\n",
       "      <td>27.137740</td>\n",
       "      <td>47.747036</td>\n",
       "      <td>62.309997</td>\n",
       "      <td>6.531500e+05</td>\n",
       "      <td>76.924390</td>\n",
       "      <td>2.793728e+11</td>\n",
       "      <td>7.560000e+06</td>\n",
       "    </tr>\n",
       "    <tr>\n",
       "      <th>max</th>\n",
       "      <td>1.400189e+13</td>\n",
       "      <td>7.366990e+08</td>\n",
       "      <td>3240.000000</td>\n",
       "      <td>45.127998</td>\n",
       "      <td>7.420000</td>\n",
       "      <td>87.089810</td>\n",
       "      <td>98.355128</td>\n",
       "      <td>96.209800</td>\n",
       "      <td>1.637687e+07</td>\n",
       "      <td>83.096098</td>\n",
       "      <td>1.615526e+13</td>\n",
       "      <td>8.198000e+07</td>\n",
       "    </tr>\n",
       "  </tbody>\n",
       "</table>\n",
       "</div>"
      ],
      "text/plain": [
       "       Adjusted net national income (current US$) [NY.ADJ.NNTY.CD]  \\\n",
       "count                                       1.250000e+02             \n",
       "mean                                        4.648238e+11             \n",
       "std                                         1.507424e+12             \n",
       "min                                         6.011972e+08             \n",
       "25%                                         1.352148e+10             \n",
       "50%                                         4.194079e+10             \n",
       "75%                                         2.393276e+11             \n",
       "max                                         1.400189e+13             \n",
       "\n",
       "       Air transport, passengers carried [IS.AIR.PSGR]  \\\n",
       "count                                     1.250000e+02   \n",
       "mean                                      2.192107e+07   \n",
       "std                                       7.429768e+07   \n",
       "min                                       0.000000e+00   \n",
       "25%                                       5.931984e+05   \n",
       "50%                                       2.206070e+06   \n",
       "75%                                       1.228956e+07   \n",
       "max                                       7.366990e+08   \n",
       "\n",
       "       Average precipitation in depth (mm per year) [AG.LND.PRCP.MM]  \\\n",
       "count                                         125.000000               \n",
       "mean                                         1167.144000               \n",
       "std                                           770.689655               \n",
       "min                                            51.000000               \n",
       "25%                                           593.000000               \n",
       "50%                                          1028.000000               \n",
       "75%                                          1705.000000               \n",
       "max                                          3240.000000               \n",
       "\n",
       "       Employment in industry (% of total employment) (modeled ILO estimate) [SL.IND.EMPL.ZS]  \\\n",
       "count                                         125.000000                                        \n",
       "mean                                           20.227216                                        \n",
       "std                                             7.930120                                        \n",
       "min                                             3.946000                                        \n",
       "25%                                            15.801000                                        \n",
       "50%                                            20.171000                                        \n",
       "75%                                            25.083000                                        \n",
       "max                                            45.127998                                        \n",
       "\n",
       "       Fertility rate, total (births per woman) [SP.DYN.TFRT.IN]  \\\n",
       "count                                         125.000000           \n",
       "mean                                            2.698190           \n",
       "std                                             1.383543           \n",
       "min                                             1.269000           \n",
       "25%                                             1.664000           \n",
       "50%                                             2.236000           \n",
       "75%                                             3.072000           \n",
       "max                                             7.420000           \n",
       "\n",
       "       Food exports (% of merchandise exports) [TX.VAL.FOOD.ZS.UN]  \\\n",
       "count                                         125.000000             \n",
       "mean                                           19.952205             \n",
       "std                                            18.942856             \n",
       "min                                             0.000000             \n",
       "25%                                             5.881806             \n",
       "50%                                            14.522065             \n",
       "75%                                            27.137740             \n",
       "max                                            87.089810             \n",
       "\n",
       "       Forest area (% of land area) [AG.LND.FRST.ZS]  \\\n",
       "count                                     125.000000   \n",
       "mean                                       32.911336   \n",
       "std                                        21.757971   \n",
       "min                                         0.006462   \n",
       "25%                                        13.397849   \n",
       "50%                                        33.324829   \n",
       "75%                                        47.747036   \n",
       "max                                        98.355128   \n",
       "\n",
       "       Individuals using the Internet (% of population) [IT.NET.USER.ZS]  \\\n",
       "count                                         125.000000                   \n",
       "mean                                           41.626827                   \n",
       "std                                            27.633271                   \n",
       "min                                             1.050000                   \n",
       "25%                                            14.520000                   \n",
       "50%                                            40.301895                   \n",
       "75%                                            62.309997                   \n",
       "max                                            96.209800                   \n",
       "\n",
       "       Land area (sq. km) [AG.LND.TOTL.K2]  \\\n",
       "count                         1.250000e+02   \n",
       "mean                          8.885764e+05   \n",
       "std                           2.231898e+06   \n",
       "min                           7.060000e+02   \n",
       "25%                           5.596000e+04   \n",
       "50%                           2.275400e+05   \n",
       "75%                           6.531500e+05   \n",
       "max                           1.637687e+07   \n",
       "\n",
       "       Life expectancy at birth, total (years) [SP.DYN.LE00.IN]  \\\n",
       "count                                         125.000000          \n",
       "mean                                           71.808318          \n",
       "std                                             7.741353          \n",
       "min                                            51.463000          \n",
       "25%                                            67.377000          \n",
       "50%                                            73.814000          \n",
       "75%                                            76.924390          \n",
       "max                                            83.096098          \n",
       "\n",
       "       GDP (current US$) [NY.GDP.MKTP.CD]  \\\n",
       "count                        1.250000e+02   \n",
       "mean                         5.637589e+11   \n",
       "std                          1.785186e+12   \n",
       "min                          9.100262e+08   \n",
       "25%                          1.584647e+10   \n",
       "50%                          5.656548e+10   \n",
       "75%                          2.793728e+11   \n",
       "max                          1.615526e+13   \n",
       "\n",
       "       International tourism, number of arrivals [ST.INT.ARVL]  \n",
       "count                                       1.250000e+02        \n",
       "mean                                        7.444791e+06        \n",
       "std                                         1.350931e+07        \n",
       "min                                         8.900000e+04        \n",
       "25%                                         8.590000e+05        \n",
       "50%                                         2.156000e+06        \n",
       "75%                                         7.560000e+06        \n",
       "max                                         8.198000e+07        "
      ]
     },
     "execution_count": 14,
     "metadata": {},
     "output_type": "execute_result"
    }
   ],
   "source": [
    "dff.describe()"
   ]
  },
  {
   "cell_type": "code",
   "execution_count": 15,
   "metadata": {},
   "outputs": [
    {
     "data": {
      "text/html": [
       "<div>\n",
       "<style scoped>\n",
       "    .dataframe tbody tr th:only-of-type {\n",
       "        vertical-align: middle;\n",
       "    }\n",
       "\n",
       "    .dataframe tbody tr th {\n",
       "        vertical-align: top;\n",
       "    }\n",
       "\n",
       "    .dataframe thead th {\n",
       "        text-align: right;\n",
       "    }\n",
       "</style>\n",
       "<table border=\"1\" class=\"dataframe\">\n",
       "  <thead>\n",
       "    <tr style=\"text-align: right;\">\n",
       "      <th></th>\n",
       "      <th></th>\n",
       "      <th>Adjusted net national income (current US$) [NY.ADJ.NNTY.CD]</th>\n",
       "      <th>Air transport, passengers carried [IS.AIR.PSGR]</th>\n",
       "      <th>Average precipitation in depth (mm per year) [AG.LND.PRCP.MM]</th>\n",
       "      <th>Employment in industry (% of total employment) (modeled ILO estimate) [SL.IND.EMPL.ZS]</th>\n",
       "      <th>Fertility rate, total (births per woman) [SP.DYN.TFRT.IN]</th>\n",
       "      <th>Food exports (% of merchandise exports) [TX.VAL.FOOD.ZS.UN]</th>\n",
       "      <th>Forest area (% of land area) [AG.LND.FRST.ZS]</th>\n",
       "      <th>Individuals using the Internet (% of population) [IT.NET.USER.ZS]</th>\n",
       "      <th>Land area (sq. km) [AG.LND.TOTL.K2]</th>\n",
       "      <th>Life expectancy at birth, total (years) [SP.DYN.LE00.IN]</th>\n",
       "      <th>GDP (current US$) [NY.GDP.MKTP.CD]</th>\n",
       "      <th>International tourism, number of arrivals [ST.INT.ARVL]</th>\n",
       "    </tr>\n",
       "    <tr>\n",
       "      <th>Country Name</th>\n",
       "      <th>Country Code</th>\n",
       "      <th></th>\n",
       "      <th></th>\n",
       "      <th></th>\n",
       "      <th></th>\n",
       "      <th></th>\n",
       "      <th></th>\n",
       "      <th></th>\n",
       "      <th></th>\n",
       "      <th></th>\n",
       "      <th></th>\n",
       "      <th></th>\n",
       "      <th></th>\n",
       "    </tr>\n",
       "  </thead>\n",
       "  <tbody>\n",
       "    <tr>\n",
       "      <th>Albania</th>\n",
       "      <th>ALB</th>\n",
       "      <td>1.056092e+10</td>\n",
       "      <td>8.143397e+05</td>\n",
       "      <td>1485.0</td>\n",
       "      <td>16.542999</td>\n",
       "      <td>1.685</td>\n",
       "      <td>4.577602</td>\n",
       "      <td>28.262044</td>\n",
       "      <td>54.655959</td>\n",
       "      <td>27400.0</td>\n",
       "      <td>77.389</td>\n",
       "      <td>1.231978e+10</td>\n",
       "      <td>3156000.0</td>\n",
       "    </tr>\n",
       "    <tr>\n",
       "      <th>Algeria</th>\n",
       "      <th>DZA</th>\n",
       "      <td>1.660026e+11</td>\n",
       "      <td>4.082595e+06</td>\n",
       "      <td>89.0</td>\n",
       "      <td>40.745998</td>\n",
       "      <td>2.936</td>\n",
       "      <td>0.445065</td>\n",
       "      <td>0.811675</td>\n",
       "      <td>18.200000</td>\n",
       "      <td>2381740.0</td>\n",
       "      <td>75.187</td>\n",
       "      <td>2.090590e+11</td>\n",
       "      <td>2634000.0</td>\n",
       "    </tr>\n",
       "    <tr>\n",
       "      <th>Angola</th>\n",
       "      <th>AGO</th>\n",
       "      <td>3.730638e+10</td>\n",
       "      <td>1.132424e+06</td>\n",
       "      <td>1010.0</td>\n",
       "      <td>8.601000</td>\n",
       "      <td>6.000</td>\n",
       "      <td>0.063120</td>\n",
       "      <td>46.707628</td>\n",
       "      <td>6.500000</td>\n",
       "      <td>1246700.0</td>\n",
       "      <td>59.770</td>\n",
       "      <td>1.139232e+11</td>\n",
       "      <td>528000.0</td>\n",
       "    </tr>\n",
       "    <tr>\n",
       "      <th>Argentina</th>\n",
       "      <th>ARG</th>\n",
       "      <td>4.710316e+11</td>\n",
       "      <td>9.375670e+06</td>\n",
       "      <td>591.0</td>\n",
       "      <td>23.656000</td>\n",
       "      <td>2.347</td>\n",
       "      <td>53.663431</td>\n",
       "      <td>10.232215</td>\n",
       "      <td>55.800000</td>\n",
       "      <td>2736690.0</td>\n",
       "      <td>75.926</td>\n",
       "      <td>5.459824e+11</td>\n",
       "      <td>5587000.0</td>\n",
       "    </tr>\n",
       "    <tr>\n",
       "      <th>Armenia</th>\n",
       "      <th>ARM</th>\n",
       "      <td>9.453687e+09</td>\n",
       "      <td>3.647330e+05</td>\n",
       "      <td>562.0</td>\n",
       "      <td>17.691999</td>\n",
       "      <td>1.664</td>\n",
       "      <td>25.920984</td>\n",
       "      <td>11.640323</td>\n",
       "      <td>37.500000</td>\n",
       "      <td>28470.0</td>\n",
       "      <td>73.814</td>\n",
       "      <td>1.061932e+10</td>\n",
       "      <td>963000.0</td>\n",
       "    </tr>\n",
       "  </tbody>\n",
       "</table>\n",
       "</div>"
      ],
      "text/plain": [
       "                           Adjusted net national income (current US$) [NY.ADJ.NNTY.CD]  \\\n",
       "Country Name Country Code                                                                \n",
       "Albania      ALB                                                1.056092e+10             \n",
       "Algeria      DZA                                                1.660026e+11             \n",
       "Angola       AGO                                                3.730638e+10             \n",
       "Argentina    ARG                                                4.710316e+11             \n",
       "Armenia      ARM                                                9.453687e+09             \n",
       "\n",
       "                           Air transport, passengers carried [IS.AIR.PSGR]  \\\n",
       "Country Name Country Code                                                    \n",
       "Albania      ALB                                              8.143397e+05   \n",
       "Algeria      DZA                                              4.082595e+06   \n",
       "Angola       AGO                                              1.132424e+06   \n",
       "Argentina    ARG                                              9.375670e+06   \n",
       "Armenia      ARM                                              3.647330e+05   \n",
       "\n",
       "                           Average precipitation in depth (mm per year) [AG.LND.PRCP.MM]  \\\n",
       "Country Name Country Code                                                                  \n",
       "Albania      ALB                                                      1485.0               \n",
       "Algeria      DZA                                                        89.0               \n",
       "Angola       AGO                                                      1010.0               \n",
       "Argentina    ARG                                                       591.0               \n",
       "Armenia      ARM                                                       562.0               \n",
       "\n",
       "                           Employment in industry (% of total employment) (modeled ILO estimate) [SL.IND.EMPL.ZS]  \\\n",
       "Country Name Country Code                                                                                           \n",
       "Albania      ALB                                                   16.542999                                        \n",
       "Algeria      DZA                                                   40.745998                                        \n",
       "Angola       AGO                                                    8.601000                                        \n",
       "Argentina    ARG                                                   23.656000                                        \n",
       "Armenia      ARM                                                   17.691999                                        \n",
       "\n",
       "                           Fertility rate, total (births per woman) [SP.DYN.TFRT.IN]  \\\n",
       "Country Name Country Code                                                              \n",
       "Albania      ALB                                                       1.685           \n",
       "Algeria      DZA                                                       2.936           \n",
       "Angola       AGO                                                       6.000           \n",
       "Argentina    ARG                                                       2.347           \n",
       "Armenia      ARM                                                       1.664           \n",
       "\n",
       "                           Food exports (% of merchandise exports) [TX.VAL.FOOD.ZS.UN]  \\\n",
       "Country Name Country Code                                                                \n",
       "Albania      ALB                                                    4.577602             \n",
       "Algeria      DZA                                                    0.445065             \n",
       "Angola       AGO                                                    0.063120             \n",
       "Argentina    ARG                                                   53.663431             \n",
       "Armenia      ARM                                                   25.920984             \n",
       "\n",
       "                           Forest area (% of land area) [AG.LND.FRST.ZS]  \\\n",
       "Country Name Country Code                                                  \n",
       "Albania      ALB                                               28.262044   \n",
       "Algeria      DZA                                                0.811675   \n",
       "Angola       AGO                                               46.707628   \n",
       "Argentina    ARG                                               10.232215   \n",
       "Armenia      ARM                                               11.640323   \n",
       "\n",
       "                           Individuals using the Internet (% of population) [IT.NET.USER.ZS]  \\\n",
       "Country Name Country Code                                                                      \n",
       "Albania      ALB                                                   54.655959                   \n",
       "Algeria      DZA                                                   18.200000                   \n",
       "Angola       AGO                                                    6.500000                   \n",
       "Argentina    ARG                                                   55.800000                   \n",
       "Armenia      ARM                                                   37.500000                   \n",
       "\n",
       "                           Land area (sq. km) [AG.LND.TOTL.K2]  \\\n",
       "Country Name Country Code                                        \n",
       "Albania      ALB                                       27400.0   \n",
       "Algeria      DZA                                     2381740.0   \n",
       "Angola       AGO                                     1246700.0   \n",
       "Argentina    ARG                                     2736690.0   \n",
       "Armenia      ARM                                       28470.0   \n",
       "\n",
       "                           Life expectancy at birth, total (years) [SP.DYN.LE00.IN]  \\\n",
       "Country Name Country Code                                                             \n",
       "Albania      ALB                                                      77.389          \n",
       "Algeria      DZA                                                      75.187          \n",
       "Angola       AGO                                                      59.770          \n",
       "Argentina    ARG                                                      75.926          \n",
       "Armenia      ARM                                                      73.814          \n",
       "\n",
       "                           GDP (current US$) [NY.GDP.MKTP.CD]  \\\n",
       "Country Name Country Code                                       \n",
       "Albania      ALB                                 1.231978e+10   \n",
       "Algeria      DZA                                 2.090590e+11   \n",
       "Angola       AGO                                 1.139232e+11   \n",
       "Argentina    ARG                                 5.459824e+11   \n",
       "Armenia      ARM                                 1.061932e+10   \n",
       "\n",
       "                           International tourism, number of arrivals [ST.INT.ARVL]  \n",
       "Country Name Country Code                                                           \n",
       "Albania      ALB                                                   3156000.0        \n",
       "Algeria      DZA                                                   2634000.0        \n",
       "Angola       AGO                                                    528000.0        \n",
       "Argentina    ARG                                                   5587000.0        \n",
       "Armenia      ARM                                                    963000.0        "
      ]
     },
     "execution_count": 15,
     "metadata": {},
     "output_type": "execute_result"
    }
   ],
   "source": [
    "dff.head()"
   ]
  },
  {
   "cell_type": "code",
   "execution_count": 16,
   "metadata": {},
   "outputs": [],
   "source": [
    "df_km = dff.iloc[:,[0,7,8,9,11]]\n",
    "#Jeu de données pour faire le k_means\n",
    "#Y a-t-il un lien entre les variables sélectionnées ?"
   ]
  },
  {
   "cell_type": "code",
   "execution_count": 17,
   "metadata": {},
   "outputs": [
    {
     "data": {
      "text/html": [
       "<div>\n",
       "<style scoped>\n",
       "    .dataframe tbody tr th:only-of-type {\n",
       "        vertical-align: middle;\n",
       "    }\n",
       "\n",
       "    .dataframe tbody tr th {\n",
       "        vertical-align: top;\n",
       "    }\n",
       "\n",
       "    .dataframe thead th {\n",
       "        text-align: right;\n",
       "    }\n",
       "</style>\n",
       "<table border=\"1\" class=\"dataframe\">\n",
       "  <thead>\n",
       "    <tr style=\"text-align: right;\">\n",
       "      <th></th>\n",
       "      <th></th>\n",
       "      <th>Adjusted net national income (current US$) [NY.ADJ.NNTY.CD]</th>\n",
       "      <th>Individuals using the Internet (% of population) [IT.NET.USER.ZS]</th>\n",
       "      <th>Land area (sq. km) [AG.LND.TOTL.K2]</th>\n",
       "      <th>Life expectancy at birth, total (years) [SP.DYN.LE00.IN]</th>\n",
       "      <th>International tourism, number of arrivals [ST.INT.ARVL]</th>\n",
       "    </tr>\n",
       "    <tr>\n",
       "      <th>Country Name</th>\n",
       "      <th>Country Code</th>\n",
       "      <th></th>\n",
       "      <th></th>\n",
       "      <th></th>\n",
       "      <th></th>\n",
       "      <th></th>\n",
       "    </tr>\n",
       "  </thead>\n",
       "  <tbody>\n",
       "    <tr>\n",
       "      <th>Albania</th>\n",
       "      <th>ALB</th>\n",
       "      <td>1.056092e+10</td>\n",
       "      <td>54.655959</td>\n",
       "      <td>27400.0</td>\n",
       "      <td>77.389</td>\n",
       "      <td>3156000.0</td>\n",
       "    </tr>\n",
       "    <tr>\n",
       "      <th>Algeria</th>\n",
       "      <th>DZA</th>\n",
       "      <td>1.660026e+11</td>\n",
       "      <td>18.200000</td>\n",
       "      <td>2381740.0</td>\n",
       "      <td>75.187</td>\n",
       "      <td>2634000.0</td>\n",
       "    </tr>\n",
       "    <tr>\n",
       "      <th>Angola</th>\n",
       "      <th>AGO</th>\n",
       "      <td>3.730638e+10</td>\n",
       "      <td>6.500000</td>\n",
       "      <td>1246700.0</td>\n",
       "      <td>59.770</td>\n",
       "      <td>528000.0</td>\n",
       "    </tr>\n",
       "    <tr>\n",
       "      <th>Argentina</th>\n",
       "      <th>ARG</th>\n",
       "      <td>4.710316e+11</td>\n",
       "      <td>55.800000</td>\n",
       "      <td>2736690.0</td>\n",
       "      <td>75.926</td>\n",
       "      <td>5587000.0</td>\n",
       "    </tr>\n",
       "    <tr>\n",
       "      <th>Armenia</th>\n",
       "      <th>ARM</th>\n",
       "      <td>9.453687e+09</td>\n",
       "      <td>37.500000</td>\n",
       "      <td>28470.0</td>\n",
       "      <td>73.814</td>\n",
       "      <td>963000.0</td>\n",
       "    </tr>\n",
       "  </tbody>\n",
       "</table>\n",
       "</div>"
      ],
      "text/plain": [
       "                           Adjusted net national income (current US$) [NY.ADJ.NNTY.CD]  \\\n",
       "Country Name Country Code                                                                \n",
       "Albania      ALB                                                1.056092e+10             \n",
       "Algeria      DZA                                                1.660026e+11             \n",
       "Angola       AGO                                                3.730638e+10             \n",
       "Argentina    ARG                                                4.710316e+11             \n",
       "Armenia      ARM                                                9.453687e+09             \n",
       "\n",
       "                           Individuals using the Internet (% of population) [IT.NET.USER.ZS]  \\\n",
       "Country Name Country Code                                                                      \n",
       "Albania      ALB                                                   54.655959                   \n",
       "Algeria      DZA                                                   18.200000                   \n",
       "Angola       AGO                                                    6.500000                   \n",
       "Argentina    ARG                                                   55.800000                   \n",
       "Armenia      ARM                                                   37.500000                   \n",
       "\n",
       "                           Land area (sq. km) [AG.LND.TOTL.K2]  \\\n",
       "Country Name Country Code                                        \n",
       "Albania      ALB                                       27400.0   \n",
       "Algeria      DZA                                     2381740.0   \n",
       "Angola       AGO                                     1246700.0   \n",
       "Argentina    ARG                                     2736690.0   \n",
       "Armenia      ARM                                       28470.0   \n",
       "\n",
       "                           Life expectancy at birth, total (years) [SP.DYN.LE00.IN]  \\\n",
       "Country Name Country Code                                                             \n",
       "Albania      ALB                                                      77.389          \n",
       "Algeria      DZA                                                      75.187          \n",
       "Angola       AGO                                                      59.770          \n",
       "Argentina    ARG                                                      75.926          \n",
       "Armenia      ARM                                                      73.814          \n",
       "\n",
       "                           International tourism, number of arrivals [ST.INT.ARVL]  \n",
       "Country Name Country Code                                                           \n",
       "Albania      ALB                                                   3156000.0        \n",
       "Algeria      DZA                                                   2634000.0        \n",
       "Angola       AGO                                                    528000.0        \n",
       "Argentina    ARG                                                   5587000.0        \n",
       "Armenia      ARM                                                    963000.0        "
      ]
     },
     "execution_count": 17,
     "metadata": {},
     "output_type": "execute_result"
    }
   ],
   "source": [
    "df_km.head()"
   ]
  },
  {
   "cell_type": "code",
   "execution_count": 18,
   "metadata": {},
   "outputs": [
    {
     "data": {
      "text/plain": [
       "<matplotlib.axes._subplots.AxesSubplot at 0x1a1405f750>"
      ]
     },
     "execution_count": 18,
     "metadata": {},
     "output_type": "execute_result"
    },
    {
     "data": {
      "image/png": "[encoded data removed]",
      "text/plain": [
       "<Figure size 432x288 with 1 Axes>"
      ]
     },
     "metadata": {
      "needs_background": "light"
     },
     "output_type": "display_data"
    }
   ],
   "source": [
    "sns.boxplot(data=df_km.iloc[:,[1,2,3]], orient=\"v\", palette=\"Set2\")"
   ]
  },
  {
   "cell_type": "code",
   "execution_count": 19,
   "metadata": {},
   "outputs": [
    {
     "name": "stderr",
     "output_type": "stream",
     "text": [
      "/Users/Noemie/miniconda3/envs/py27/lib/python2.7/site-packages/scipy/stats/stats.py:1713: FutureWarning: Using a non-tuple sequence for multidimensional indexing is deprecated; use `arr[tuple(seq)]` instead of `arr[seq]`. In the future this will be interpreted as an array index, `arr[np.array(seq)]`, which will result either in an error or a different result.\n",
      "  return np.add.reduce(sorted[indexer] * weights, axis=axis) / sumval\n"
     ]
    },
    {
     "data": {
      "text/plain": [
       "<matplotlib.axes._subplots.AxesSubplot at 0x1a14136910>"
      ]
     },
     "execution_count": 19,
     "metadata": {},
     "output_type": "execute_result"
    },
    {
     "data": {
      "image/png": "[encoded data removed]",
      "text/plain": [
       "<Figure size 432x288 with 1 Axes>"
      ]
     },
     "metadata": {
      "needs_background": "light"
     },
     "output_type": "display_data"
    }
   ],
   "source": [
    "sns.distplot(dff[\"GDP (current US$) [NY.GDP.MKTP.CD]\"])"
   ]
  },
  {
   "cell_type": "code",
   "execution_count": 20,
   "metadata": {},
   "outputs": [
    {
     "data": {
      "text/plain": [
       "910026155.731035"
      ]
     },
     "execution_count": 20,
     "metadata": {},
     "output_type": "execute_result"
    }
   ],
   "source": [
    "GDP  = dff[\"GDP (current US$) [NY.GDP.MKTP.CD]\"]\n",
    "max(GDP)\n",
    "min(GDP)\n"
   ]
  },
  {
   "cell_type": "code",
   "execution_count": 21,
   "metadata": {},
   "outputs": [],
   "source": [
    "np.percentile?"
   ]
  },
  {
   "cell_type": "code",
   "execution_count": 22,
   "metadata": {},
   "outputs": [
    {
     "data": {
      "text/plain": [
       "<matplotlib.axes._subplots.AxesSubplot at 0x1a14219910>"
      ]
     },
     "execution_count": 22,
     "metadata": {},
     "output_type": "execute_result"
    },
    {
     "data": {
      "image/png": "[encoded data removed]",
      "text/plain": [
       "<Figure size 432x288 with 1 Axes>"
      ]
     },
     "metadata": {
      "needs_background": "light"
     },
     "output_type": "display_data"
    }
   ],
   "source": [
    "sns.distplot(GDP)"
   ]
  },
  {
   "cell_type": "code",
   "execution_count": 23,
   "metadata": {},
   "outputs": [
    {
     "data": {
      "text/plain": [
       "array([9.10026156e+08, 2.50056880e+10, 2.07899026e+11, 1.61552550e+13])"
      ]
     },
     "execution_count": 23,
     "metadata": {},
     "output_type": "execute_result"
    }
   ],
   "source": [
    "cat = np.percentile(GDP, [0,33,66, 100])\n",
    "cat"
   ]
  },
  {
   "cell_type": "code",
   "execution_count": 24,
   "metadata": {},
   "outputs": [],
   "source": [
    "#sex = [\"male\" if s == 1 else \"female\" for s in df_older[\"SEX\"] ]\n",
    "GDP_cat = [\"pauvre\" if val < cat[1] else \"inter\" if val < cat[2] and val > cat[1] else \"riche\" for val in dff[\"GDP (current US$) [NY.GDP.MKTP.CD]\" ]]"
   ]
  },
  {
   "cell_type": "code",
   "execution_count": 25,
   "metadata": {},
   "outputs": [
    {
     "data": {
      "text/plain": [
       "Counter({'inter': 41, 'pauvre': 41, 'riche': 43})"
      ]
     },
     "execution_count": 25,
     "metadata": {},
     "output_type": "execute_result"
    }
   ],
   "source": [
    "from collections import Counter\n",
    "Counter(GDP_cat) "
   ]
  },
  {
   "cell_type": "code",
   "execution_count": 26,
   "metadata": {},
   "outputs": [
    {
     "data": {
      "text/html": [
       "<div>\n",
       "<style scoped>\n",
       "    .dataframe tbody tr th:only-of-type {\n",
       "        vertical-align: middle;\n",
       "    }\n",
       "\n",
       "    .dataframe tbody tr th {\n",
       "        vertical-align: top;\n",
       "    }\n",
       "\n",
       "    .dataframe thead th {\n",
       "        text-align: right;\n",
       "    }\n",
       "</style>\n",
       "<table border=\"1\" class=\"dataframe\">\n",
       "  <thead>\n",
       "    <tr style=\"text-align: right;\">\n",
       "      <th></th>\n",
       "      <th></th>\n",
       "      <th>Adjusted net national income (current US$) [NY.ADJ.NNTY.CD]</th>\n",
       "      <th>Individuals using the Internet (% of population) [IT.NET.USER.ZS]</th>\n",
       "      <th>Land area (sq. km) [AG.LND.TOTL.K2]</th>\n",
       "      <th>Life expectancy at birth, total (years) [SP.DYN.LE00.IN]</th>\n",
       "      <th>International tourism, number of arrivals [ST.INT.ARVL]</th>\n",
       "    </tr>\n",
       "    <tr>\n",
       "      <th>Country Name</th>\n",
       "      <th>Country Code</th>\n",
       "      <th></th>\n",
       "      <th></th>\n",
       "      <th></th>\n",
       "      <th></th>\n",
       "      <th></th>\n",
       "    </tr>\n",
       "  </thead>\n",
       "  <tbody>\n",
       "    <tr>\n",
       "      <th>Albania</th>\n",
       "      <th>ALB</th>\n",
       "      <td>1.056092e+10</td>\n",
       "      <td>54.655959</td>\n",
       "      <td>27400.0</td>\n",
       "      <td>77.389</td>\n",
       "      <td>3156000.0</td>\n",
       "    </tr>\n",
       "    <tr>\n",
       "      <th>Algeria</th>\n",
       "      <th>DZA</th>\n",
       "      <td>1.660026e+11</td>\n",
       "      <td>18.200000</td>\n",
       "      <td>2381740.0</td>\n",
       "      <td>75.187</td>\n",
       "      <td>2634000.0</td>\n",
       "    </tr>\n",
       "    <tr>\n",
       "      <th>Angola</th>\n",
       "      <th>AGO</th>\n",
       "      <td>3.730638e+10</td>\n",
       "      <td>6.500000</td>\n",
       "      <td>1246700.0</td>\n",
       "      <td>59.770</td>\n",
       "      <td>528000.0</td>\n",
       "    </tr>\n",
       "    <tr>\n",
       "      <th>Argentina</th>\n",
       "      <th>ARG</th>\n",
       "      <td>4.710316e+11</td>\n",
       "      <td>55.800000</td>\n",
       "      <td>2736690.0</td>\n",
       "      <td>75.926</td>\n",
       "      <td>5587000.0</td>\n",
       "    </tr>\n",
       "    <tr>\n",
       "      <th>Armenia</th>\n",
       "      <th>ARM</th>\n",
       "      <td>9.453687e+09</td>\n",
       "      <td>37.500000</td>\n",
       "      <td>28470.0</td>\n",
       "      <td>73.814</td>\n",
       "      <td>963000.0</td>\n",
       "    </tr>\n",
       "  </tbody>\n",
       "</table>\n",
       "</div>"
      ],
      "text/plain": [
       "                           Adjusted net national income (current US$) [NY.ADJ.NNTY.CD]  \\\n",
       "Country Name Country Code                                                                \n",
       "Albania      ALB                                                1.056092e+10             \n",
       "Algeria      DZA                                                1.660026e+11             \n",
       "Angola       AGO                                                3.730638e+10             \n",
       "Argentina    ARG                                                4.710316e+11             \n",
       "Armenia      ARM                                                9.453687e+09             \n",
       "\n",
       "                           Individuals using the Internet (% of population) [IT.NET.USER.ZS]  \\\n",
       "Country Name Country Code                                                                      \n",
       "Albania      ALB                                                   54.655959                   \n",
       "Algeria      DZA                                                   18.200000                   \n",
       "Angola       AGO                                                    6.500000                   \n",
       "Argentina    ARG                                                   55.800000                   \n",
       "Armenia      ARM                                                   37.500000                   \n",
       "\n",
       "                           Land area (sq. km) [AG.LND.TOTL.K2]  \\\n",
       "Country Name Country Code                                        \n",
       "Albania      ALB                                       27400.0   \n",
       "Algeria      DZA                                     2381740.0   \n",
       "Angola       AGO                                     1246700.0   \n",
       "Argentina    ARG                                     2736690.0   \n",
       "Armenia      ARM                                       28470.0   \n",
       "\n",
       "                           Life expectancy at birth, total (years) [SP.DYN.LE00.IN]  \\\n",
       "Country Name Country Code                                                             \n",
       "Albania      ALB                                                      77.389          \n",
       "Algeria      DZA                                                      75.187          \n",
       "Angola       AGO                                                      59.770          \n",
       "Argentina    ARG                                                      75.926          \n",
       "Armenia      ARM                                                      73.814          \n",
       "\n",
       "                           International tourism, number of arrivals [ST.INT.ARVL]  \n",
       "Country Name Country Code                                                           \n",
       "Albania      ALB                                                   3156000.0        \n",
       "Algeria      DZA                                                   2634000.0        \n",
       "Angola       AGO                                                    528000.0        \n",
       "Argentina    ARG                                                   5587000.0        \n",
       "Armenia      ARM                                                    963000.0        "
      ]
     },
     "execution_count": 26,
     "metadata": {},
     "output_type": "execute_result"
    }
   ],
   "source": [
    "df_km.head()"
   ]
  },
  {
   "cell_type": "code",
   "execution_count": 27,
   "metadata": {},
   "outputs": [
    {
     "name": "stdout",
     "output_type": "stream",
     "text": [
      "Adjusted net national income (current US$) [NY.ADJ.NNTY.CD]          4.648238e+11\n",
      "Individuals using the Internet (% of population) [IT.NET.USER.ZS]    4.162683e+01\n",
      "Land area (sq. km) [AG.LND.TOTL.K2]                                  8.885764e+05\n",
      "Life expectancy at birth, total (years) [SP.DYN.LE00.IN]             7.180832e+01\n",
      "International tourism, number of arrivals [ST.INT.ARVL]              7.444791e+06\n",
      "dtype: float64\n",
      "Adjusted net national income (current US$) [NY.ADJ.NNTY.CD]          1.507424e+12\n",
      "Individuals using the Internet (% of population) [IT.NET.USER.ZS]    2.763327e+01\n",
      "Land area (sq. km) [AG.LND.TOTL.K2]                                  2.231898e+06\n",
      "Life expectancy at birth, total (years) [SP.DYN.LE00.IN]             7.741353e+00\n",
      "International tourism, number of arrivals [ST.INT.ARVL]              1.350931e+07\n",
      "dtype: float64\n"
     ]
    }
   ],
   "source": [
    "#df_km.mean(axis=0)\n",
    "#df_km_c  = df_km - df_km.mean(axis=0)\n",
    "print(df_km.mean())\n",
    "print(df_km.std())\n",
    "normalized_df_km = ( (df_km-df_km.mean()) / df_km.std() )"
   ]
  },
  {
   "cell_type": "code",
   "execution_count": 28,
   "metadata": {},
   "outputs": [],
   "source": [
    "# Dataframe KM normalisée"
   ]
  },
  {
   "cell_type": "code",
   "execution_count": 29,
   "metadata": {},
   "outputs": [
    {
     "data": {
      "text/html": [
       "<div>\n",
       "<style scoped>\n",
       "    .dataframe tbody tr th:only-of-type {\n",
       "        vertical-align: middle;\n",
       "    }\n",
       "\n",
       "    .dataframe tbody tr th {\n",
       "        vertical-align: top;\n",
       "    }\n",
       "\n",
       "    .dataframe thead th {\n",
       "        text-align: right;\n",
       "    }\n",
       "</style>\n",
       "<table border=\"1\" class=\"dataframe\">\n",
       "  <thead>\n",
       "    <tr style=\"text-align: right;\">\n",
       "      <th></th>\n",
       "      <th></th>\n",
       "      <th>Adjusted net national income (current US$) [NY.ADJ.NNTY.CD]</th>\n",
       "      <th>Individuals using the Internet (% of population) [IT.NET.USER.ZS]</th>\n",
       "      <th>Land area (sq. km) [AG.LND.TOTL.K2]</th>\n",
       "      <th>Life expectancy at birth, total (years) [SP.DYN.LE00.IN]</th>\n",
       "      <th>International tourism, number of arrivals [ST.INT.ARVL]</th>\n",
       "    </tr>\n",
       "    <tr>\n",
       "      <th>Country Name</th>\n",
       "      <th>Country Code</th>\n",
       "      <th></th>\n",
       "      <th></th>\n",
       "      <th></th>\n",
       "      <th></th>\n",
       "      <th></th>\n",
       "    </tr>\n",
       "  </thead>\n",
       "  <tbody>\n",
       "    <tr>\n",
       "      <th>Albania</th>\n",
       "      <th>ALB</th>\n",
       "      <td>-0.301350</td>\n",
       "      <td>0.471502</td>\n",
       "      <td>-0.385849</td>\n",
       "      <td>0.720892</td>\n",
       "      <td>-0.317469</td>\n",
       "    </tr>\n",
       "    <tr>\n",
       "      <th>Algeria</th>\n",
       "      <th>DZA</th>\n",
       "      <td>-0.198233</td>\n",
       "      <td>-0.847776</td>\n",
       "      <td>0.669011</td>\n",
       "      <td>0.436446</td>\n",
       "      <td>-0.356109</td>\n",
       "    </tr>\n",
       "    <tr>\n",
       "      <th>Angola</th>\n",
       "      <th>AGO</th>\n",
       "      <td>-0.283608</td>\n",
       "      <td>-1.271179</td>\n",
       "      <td>0.160457</td>\n",
       "      <td>-1.555066</td>\n",
       "      <td>-0.512002</td>\n",
       "    </tr>\n",
       "    <tr>\n",
       "      <th>Argentina</th>\n",
       "      <th>ARG</th>\n",
       "      <td>0.004118</td>\n",
       "      <td>0.512902</td>\n",
       "      <td>0.828046</td>\n",
       "      <td>0.531907</td>\n",
       "      <td>-0.137519</td>\n",
       "    </tr>\n",
       "    <tr>\n",
       "      <th>Armenia</th>\n",
       "      <th>ARM</th>\n",
       "      <td>-0.302085</td>\n",
       "      <td>-0.149343</td>\n",
       "      <td>-0.385370</td>\n",
       "      <td>0.259087</td>\n",
       "      <td>-0.479802</td>\n",
       "    </tr>\n",
       "  </tbody>\n",
       "</table>\n",
       "</div>"
      ],
      "text/plain": [
       "                           Adjusted net national income (current US$) [NY.ADJ.NNTY.CD]  \\\n",
       "Country Name Country Code                                                                \n",
       "Albania      ALB                                                   -0.301350             \n",
       "Algeria      DZA                                                   -0.198233             \n",
       "Angola       AGO                                                   -0.283608             \n",
       "Argentina    ARG                                                    0.004118             \n",
       "Armenia      ARM                                                   -0.302085             \n",
       "\n",
       "                           Individuals using the Internet (% of population) [IT.NET.USER.ZS]  \\\n",
       "Country Name Country Code                                                                      \n",
       "Albania      ALB                                                    0.471502                   \n",
       "Algeria      DZA                                                   -0.847776                   \n",
       "Angola       AGO                                                   -1.271179                   \n",
       "Argentina    ARG                                                    0.512902                   \n",
       "Armenia      ARM                                                   -0.149343                   \n",
       "\n",
       "                           Land area (sq. km) [AG.LND.TOTL.K2]  \\\n",
       "Country Name Country Code                                        \n",
       "Albania      ALB                                     -0.385849   \n",
       "Algeria      DZA                                      0.669011   \n",
       "Angola       AGO                                      0.160457   \n",
       "Argentina    ARG                                      0.828046   \n",
       "Armenia      ARM                                     -0.385370   \n",
       "\n",
       "                           Life expectancy at birth, total (years) [SP.DYN.LE00.IN]  \\\n",
       "Country Name Country Code                                                             \n",
       "Albania      ALB                                                    0.720892          \n",
       "Algeria      DZA                                                    0.436446          \n",
       "Angola       AGO                                                   -1.555066          \n",
       "Argentina    ARG                                                    0.531907          \n",
       "Armenia      ARM                                                    0.259087          \n",
       "\n",
       "                           International tourism, number of arrivals [ST.INT.ARVL]  \n",
       "Country Name Country Code                                                           \n",
       "Albania      ALB                                                   -0.317469        \n",
       "Algeria      DZA                                                   -0.356109        \n",
       "Angola       AGO                                                   -0.512002        \n",
       "Argentina    ARG                                                   -0.137519        \n",
       "Armenia      ARM                                                   -0.479802        "
      ]
     },
     "execution_count": 29,
     "metadata": {},
     "output_type": "execute_result"
    }
   ],
   "source": [
    "normalized_df_km.head()"
   ]
  },
  {
   "cell_type": "code",
   "execution_count": 30,
   "metadata": {},
   "outputs": [],
   "source": [
    "# Ajoute la variable catégoriele GDP_cat\n",
    "normalized_df_km[\"GDP_cat\"] = GDP_cat"
   ]
  },
  {
   "cell_type": "code",
   "execution_count": 31,
   "metadata": {},
   "outputs": [
    {
     "data": {
      "text/html": [
       "<div>\n",
       "<style scoped>\n",
       "    .dataframe tbody tr th:only-of-type {\n",
       "        vertical-align: middle;\n",
       "    }\n",
       "\n",
       "    .dataframe tbody tr th {\n",
       "        vertical-align: top;\n",
       "    }\n",
       "\n",
       "    .dataframe thead th {\n",
       "        text-align: right;\n",
       "    }\n",
       "</style>\n",
       "<table border=\"1\" class=\"dataframe\">\n",
       "  <thead>\n",
       "    <tr style=\"text-align: right;\">\n",
       "      <th></th>\n",
       "      <th></th>\n",
       "      <th>Adjusted net national income (current US$) [NY.ADJ.NNTY.CD]</th>\n",
       "      <th>Individuals using the Internet (% of population) [IT.NET.USER.ZS]</th>\n",
       "      <th>Land area (sq. km) [AG.LND.TOTL.K2]</th>\n",
       "      <th>Life expectancy at birth, total (years) [SP.DYN.LE00.IN]</th>\n",
       "      <th>International tourism, number of arrivals [ST.INT.ARVL]</th>\n",
       "      <th>GDP_cat</th>\n",
       "    </tr>\n",
       "    <tr>\n",
       "      <th>Country Name</th>\n",
       "      <th>Country Code</th>\n",
       "      <th></th>\n",
       "      <th></th>\n",
       "      <th></th>\n",
       "      <th></th>\n",
       "      <th></th>\n",
       "      <th></th>\n",
       "    </tr>\n",
       "  </thead>\n",
       "  <tbody>\n",
       "    <tr>\n",
       "      <th>Albania</th>\n",
       "      <th>ALB</th>\n",
       "      <td>-0.301350</td>\n",
       "      <td>0.471502</td>\n",
       "      <td>-0.385849</td>\n",
       "      <td>0.720892</td>\n",
       "      <td>-0.317469</td>\n",
       "      <td>pauvre</td>\n",
       "    </tr>\n",
       "    <tr>\n",
       "      <th>Algeria</th>\n",
       "      <th>DZA</th>\n",
       "      <td>-0.198233</td>\n",
       "      <td>-0.847776</td>\n",
       "      <td>0.669011</td>\n",
       "      <td>0.436446</td>\n",
       "      <td>-0.356109</td>\n",
       "      <td>riche</td>\n",
       "    </tr>\n",
       "    <tr>\n",
       "      <th>Angola</th>\n",
       "      <th>AGO</th>\n",
       "      <td>-0.283608</td>\n",
       "      <td>-1.271179</td>\n",
       "      <td>0.160457</td>\n",
       "      <td>-1.555066</td>\n",
       "      <td>-0.512002</td>\n",
       "      <td>inter</td>\n",
       "    </tr>\n",
       "    <tr>\n",
       "      <th>Argentina</th>\n",
       "      <th>ARG</th>\n",
       "      <td>0.004118</td>\n",
       "      <td>0.512902</td>\n",
       "      <td>0.828046</td>\n",
       "      <td>0.531907</td>\n",
       "      <td>-0.137519</td>\n",
       "      <td>riche</td>\n",
       "    </tr>\n",
       "    <tr>\n",
       "      <th>Armenia</th>\n",
       "      <th>ARM</th>\n",
       "      <td>-0.302085</td>\n",
       "      <td>-0.149343</td>\n",
       "      <td>-0.385370</td>\n",
       "      <td>0.259087</td>\n",
       "      <td>-0.479802</td>\n",
       "      <td>pauvre</td>\n",
       "    </tr>\n",
       "  </tbody>\n",
       "</table>\n",
       "</div>"
      ],
      "text/plain": [
       "                           Adjusted net national income (current US$) [NY.ADJ.NNTY.CD]  \\\n",
       "Country Name Country Code                                                                \n",
       "Albania      ALB                                                   -0.301350             \n",
       "Algeria      DZA                                                   -0.198233             \n",
       "Angola       AGO                                                   -0.283608             \n",
       "Argentina    ARG                                                    0.004118             \n",
       "Armenia      ARM                                                   -0.302085             \n",
       "\n",
       "                           Individuals using the Internet (% of population) [IT.NET.USER.ZS]  \\\n",
       "Country Name Country Code                                                                      \n",
       "Albania      ALB                                                    0.471502                   \n",
       "Algeria      DZA                                                   -0.847776                   \n",
       "Angola       AGO                                                   -1.271179                   \n",
       "Argentina    ARG                                                    0.512902                   \n",
       "Armenia      ARM                                                   -0.149343                   \n",
       "\n",
       "                           Land area (sq. km) [AG.LND.TOTL.K2]  \\\n",
       "Country Name Country Code                                        \n",
       "Albania      ALB                                     -0.385849   \n",
       "Algeria      DZA                                      0.669011   \n",
       "Angola       AGO                                      0.160457   \n",
       "Argentina    ARG                                      0.828046   \n",
       "Armenia      ARM                                     -0.385370   \n",
       "\n",
       "                           Life expectancy at birth, total (years) [SP.DYN.LE00.IN]  \\\n",
       "Country Name Country Code                                                             \n",
       "Albania      ALB                                                    0.720892          \n",
       "Algeria      DZA                                                    0.436446          \n",
       "Angola       AGO                                                   -1.555066          \n",
       "Argentina    ARG                                                    0.531907          \n",
       "Armenia      ARM                                                    0.259087          \n",
       "\n",
       "                           International tourism, number of arrivals [ST.INT.ARVL]  \\\n",
       "Country Name Country Code                                                            \n",
       "Albania      ALB                                                   -0.317469         \n",
       "Algeria      DZA                                                   -0.356109         \n",
       "Angola       AGO                                                   -0.512002         \n",
       "Argentina    ARG                                                   -0.137519         \n",
       "Armenia      ARM                                                   -0.479802         \n",
       "\n",
       "                          GDP_cat  \n",
       "Country Name Country Code          \n",
       "Albania      ALB           pauvre  \n",
       "Algeria      DZA            riche  \n",
       "Angola       AGO            inter  \n",
       "Argentina    ARG            riche  \n",
       "Armenia      ARM           pauvre  "
      ]
     },
     "execution_count": 31,
     "metadata": {},
     "output_type": "execute_result"
    }
   ],
   "source": [
    "normalized_df_km.head()"
   ]
  },
  {
   "cell_type": "code",
   "execution_count": 32,
   "metadata": {},
   "outputs": [
    {
     "data": {
      "text/plain": [
       "<matplotlib.axes._subplots.AxesSubplot at 0x1a1414b2d0>"
      ]
     },
     "execution_count": 32,
     "metadata": {},
     "output_type": "execute_result"
    },
    {
     "data": {
      "image/png": "[encoded data removed]",
      "text/plain": [
       "<Figure size 432x288 with 1 Axes>"
      ]
     },
     "metadata": {
      "needs_background": "light"
     },
     "output_type": "display_data"
    }
   ],
   "source": [
    "sns.scatterplot(data=normalized_df_km, y=\"Adjusted net national income (current US$) [NY.ADJ.NNTY.CD]\", x=\"Individuals using the Internet (% of population) [IT.NET.USER.ZS]\", hue=\"GDP_cat\")"
   ]
  },
  {
   "cell_type": "code",
   "execution_count": 33,
   "metadata": {},
   "outputs": [
    {
     "data": {
      "text/plain": [
       "<matplotlib.axes._subplots.AxesSubplot at 0x1a1450e450>"
      ]
     },
     "execution_count": 33,
     "metadata": {},
     "output_type": "execute_result"
    },
    {
     "data": {
      "image/png": "[encoded data removed]",
      "text/plain": [
       "<Figure size 432x288 with 1 Axes>"
      ]
     },
     "metadata": {
      "needs_background": "light"
     },
     "output_type": "display_data"
    }
   ],
   "source": [
    "sns.scatterplot(data=normalized_df_km, x=\"Adjusted net national income (current US$) [NY.ADJ.NNTY.CD]\", y=\"Land area (sq. km) [AG.LND.TOTL.K2]\", hue=\"GDP_cat\")"
   ]
  },
  {
   "cell_type": "code",
   "execution_count": 34,
   "metadata": {},
   "outputs": [
    {
     "data": {
      "text/plain": [
       "<matplotlib.axes._subplots.AxesSubplot at 0x1a1450e310>"
      ]
     },
     "execution_count": 34,
     "metadata": {},
     "output_type": "execute_result"
    },
    {
     "data": {
      "image/png": "[encoded data removed]",
      "text/plain": [
       "<Figure size 432x288 with 1 Axes>"
      ]
     },
     "metadata": {
      "needs_background": "light"
     },
     "output_type": "display_data"
    }
   ],
   "source": [
    "sns.scatterplot(data=normalized_df_km, x=\"Life expectancy at birth, total (years) [SP.DYN.LE00.IN]\", y=\"Individuals using the Internet (% of population) [IT.NET.USER.ZS]\", hue=\"GDP_cat\")"
   ]
  },
  {
   "cell_type": "code",
   "execution_count": 35,
   "metadata": {},
   "outputs": [
    {
     "name": "stderr",
     "output_type": "stream",
     "text": [
      "/Users/Noemie/miniconda3/envs/py27/lib/python2.7/site-packages/matplotlib/tight_layout.py:198: UserWarning: tight_layout cannot make axes width small enough to accommodate all axes decorations\n",
      "  warnings.warn('tight_layout cannot make axes width small enough '\n",
      "/Users/Noemie/miniconda3/envs/py27/lib/python2.7/site-packages/matplotlib/tight_layout.py:209: UserWarning: tight_layout cannot make axes height small enough to accommodate all axes decorations\n",
      "  warnings.warn('tight_layout cannot make axes height small enough '\n"
     ]
    },
    {
     "data": {
      "text/plain": [
       "<seaborn.axisgrid.PairGrid at 0x1a144f1590>"
      ]
     },
     "execution_count": 35,
     "metadata": {},
     "output_type": "execute_result"
    },
    {
     "data": {
      "image/png": "[encoded data removed]",
      "text/plain": [
       "<Figure size 970.875x900 with 30 Axes>"
      ]
     },
     "metadata": {
      "needs_background": "light"
     },
     "output_type": "display_data"
    }
   ],
   "source": [
    "sns.pairplot(data=normalized_df_km, hue=\"GDP_cat\")"
   ]
  },
  {
   "cell_type": "code",
   "execution_count": 36,
   "metadata": {},
   "outputs": [
    {
     "data": {
      "text/plain": [
       "<matplotlib.axes._subplots.AxesSubplot at 0x1a154aa710>"
      ]
     },
     "execution_count": 36,
     "metadata": {},
     "output_type": "execute_result"
    },
    {
     "data": {
      "image/png": "[encoded data removed]",
      "text/plain": [
       "<Figure size 432x288 with 1 Axes>"
      ]
     },
     "metadata": {
      "needs_background": "light"
     },
     "output_type": "display_data"
    }
   ],
   "source": [
    "sns.boxplot(data=normalized_df_km, orient=\"v\", palette=\"Set2\")"
   ]
  },
  {
   "cell_type": "markdown",
   "metadata": {},
   "source": [
    "# Array de values des 5 valeurs variables retenues pour k_means "
   ]
  },
  {
   "cell_type": "code",
   "execution_count": 61,
   "metadata": {},
   "outputs": [],
   "source": [
    "dffdv = normalized_df_km.iloc[:,[0,1,2,3,4]].values\n",
    "#normalized_df_km.iloc[:,[0,1,2,3,4]]"
   ]
  },
  {
   "cell_type": "code",
   "execution_count": 89,
   "metadata": {},
   "outputs": [
    {
     "data": {
      "text/plain": [
       "KMeans(algorithm='auto', copy_x=True, init='k-means++', max_iter=300,\n",
       "    n_clusters=2, n_init=10, n_jobs=1, precompute_distances='auto',\n",
       "    random_state=None, tol=0.0001, verbose=0)"
      ]
     },
     "execution_count": 89,
     "metadata": {},
     "output_type": "execute_result"
    }
   ],
   "source": [
    "km1 = KMeans(n_clusters=2) # create a KMeans object\n",
    "km1.fit(dffdv)"
   ]
  },
  {
   "cell_type": "code",
   "execution_count": 90,
   "metadata": {},
   "outputs": [],
   "source": [
    "clusters = km1.labels_"
   ]
  },
  {
   "cell_type": "code",
   "execution_count": 91,
   "metadata": {},
   "outputs": [
    {
     "name": "stdout",
     "output_type": "stream",
     "text": [
      "<type 'numpy.ndarray'>\n",
      "[0 1 1 0 1 0 0 0 0 0 1 0 0 1 1 1 1 0 1 0 0 0 1 1 1 1 0 0 0 0 1 0 1 0 0 0 0\n",
      " 1 1 1 0 1 1 0 0 1 1 0 1 0 1 1 1 0 0 1 1 1 0 0 0 1 0 1 0 0 1 1 0 0 0 0 1 1\n",
      " 0 1 1 0 1 0 1 1 1 1 0 0 1 1 0 1 0 1 1 0 1 0 0 0 0 1 0 1 0 0 0 1 0 1 1 0 1\n",
      " 0 1 0 0 0 1 0 0 0 0 0 1 1 1]\n",
      "(125,)\n",
      "['0', '1']\n"
     ]
    }
   ],
   "source": [
    "print(type(clusters))\n",
    "print(clusters)\n",
    "print(clusters.shape)\n",
    "clusterLabels = map(str,sorted(set(clusters.tolist()))) # Transfo numpy en list puis en set -> tri \n",
    "print(clusterLabels) # ['0', '1', '2']\n"
   ]
  },
  {
   "cell_type": "code",
   "execution_count": 92,
   "metadata": {},
   "outputs": [
    {
     "name": "stdout",
     "output_type": "stream",
     "text": [
      "['pauvre', 'riche', 'inter']\n"
     ]
    }
   ],
   "source": [
    "GDP_classes = normalized_df_km.loc[:,\"GDP_cat\"] # tt les lignes de la colonnes GDP_cat\n",
    "classLabels = normalized_df_km.GDP_cat.unique().tolist()\n",
    "print(classLabels)"
   ]
  },
  {
   "cell_type": "code",
   "execution_count": 93,
   "metadata": {},
   "outputs": [
    {
     "data": {
      "text/plain": [
       "Country Name  Country Code\n",
       "Albania       ALB             pauvre\n",
       "Algeria       DZA              riche\n",
       "Angola        AGO              inter\n",
       "Argentina     ARG              riche\n",
       "Armenia       ARM             pauvre\n",
       "Name: GDP_cat, dtype: object"
      ]
     },
     "execution_count": 93,
     "metadata": {},
     "output_type": "execute_result"
    }
   ],
   "source": [
    "GDP_classes.head() # Pays Pauvre , Riche ou Inter"
   ]
  },
  {
   "cell_type": "code",
   "execution_count": 94,
   "metadata": {},
   "outputs": [
    {
     "data": {
      "text/plain": [
       "(5, 5)"
      ]
     },
     "execution_count": 94,
     "metadata": {},
     "output_type": "execute_result"
    }
   ],
   "source": [
    "allLabels = classLabels + clusterLabels # ['pauvre', 'riche', 'inter']\n",
    "cm = metrics.confusion_matrix(GDP_classes, clusters.astype(str), labels=allLabels)\n",
    "cm.shape"
   ]
  },
  {
   "cell_type": "code",
   "execution_count": 95,
   "metadata": {},
   "outputs": [
    {
     "data": {
      "text/plain": [
       "array([[ 0,  0,  0,  6, 35],\n",
       "       [ 0,  0,  0, 34,  9],\n",
       "       [ 0,  0,  0, 26, 15],\n",
       "       [ 0,  0,  0,  0,  0],\n",
       "       [ 0,  0,  0,  0,  0]])"
      ]
     },
     "execution_count": 95,
     "metadata": {},
     "output_type": "execute_result"
    }
   ],
   "source": [
    "cm"
   ]
  },
  {
   "cell_type": "code",
   "execution_count": 96,
   "metadata": {},
   "outputs": [
    {
     "name": "stdout",
     "output_type": "stream",
     "text": [
      "   pauvre  riche  inter\n",
      "0       6     34     26\n",
      "1      35      9     15\n"
     ]
    },
    {
     "data": {
      "image/png": "[encoded data removed]",
      "text/plain": [
       "<Figure size 432x288 with 2 Axes>"
      ]
     },
     "metadata": {
      "needs_background": "light"
     },
     "output_type": "display_data"
    }
   ],
   "source": [
    "cmdf = pds.DataFrame(data=cm, copy=True, index=allLabels, columns=allLabels).loc[classLabels, clusterLabels]\n",
    "cmdf = cmdf.transpose()\n",
    "sns.heatmap(cmdf, annot=True)\n",
    "print(cmdf.head())"
   ]
  },
  {
   "cell_type": "code",
   "execution_count": 97,
   "metadata": {},
   "outputs": [
    {
     "name": "stdout",
     "output_type": "stream",
     "text": [
      "sse = 429.31639895002763\n"
     ]
    }
   ],
   "source": [
    "sse = km1.inertia_ # Somme des carrés des erreurs\n",
    "print \"sse =\", sse"
   ]
  },
  {
   "cell_type": "code",
   "execution_count": 98,
   "metadata": {},
   "outputs": [
    {
     "data": {
      "text/plain": [
       "array([[ 0.22587955,  0.79472361,  0.16021009,  0.71129007,  0.38661174],\n",
       "       [-0.25267882, -0.88901285, -0.17921806, -0.79568042, -0.43248093]])"
      ]
     },
     "execution_count": 98,
     "metadata": {},
     "output_type": "execute_result"
    }
   ],
   "source": [
    "centroids = km1.cluster_centers_\n",
    "centroids"
   ]
  },
  {
   "cell_type": "code",
   "execution_count": 99,
   "metadata": {},
   "outputs": [
    {
     "data": {
      "text/plain": [
       "<matplotlib.axes._subplots.AxesSubplot at 0x1a1686dc50>"
      ]
     },
     "execution_count": 99,
     "metadata": {},
     "output_type": "execute_result"
    },
    {
     "data": {
      "image/png": "[encoded data removed]",
      "text/plain": [
       "<Figure size 432x288 with 1 Axes>"
      ]
     },
     "metadata": {
      "needs_background": "light"
     },
     "output_type": "display_data"
    }
   ],
   "source": [
    "sns.scatterplot(data=normalized_df_km, x=\"Life expectancy at birth, total (years) [SP.DYN.LE00.IN]\", \n",
    "                    y=\"Individuals using the Internet (% of population) [IT.NET.USER.ZS]\", hue=\"GDP_cat\")\n",
    "\n",
    "sns.regplot(x=centroids[:,normalized_df_km.columns.get_loc(\"Life expectancy at birth, total (years) [SP.DYN.LE00.IN]\")], y=centroids[:,normalized_df_km.columns.get_loc(\"Individuals using the Internet (% of population) [IT.NET.USER.ZS]\")],\n",
    "            scatter=True, fit_reg=False, marker='x', scatter_kws={\"s\": 100}, color=\"r\")"
   ]
  }
 ],
 "metadata": {
  "kernelspec": {
   "display_name": "Python 2",
   "language": "python",
   "name": "python2"
  },
  "language_info": {
   "codemirror_mode": {
    "name": "ipython",
    "version": 2
   },
   "file_extension": ".py",
   "mimetype": "text/x-python",
   "name": "python",
   "nbconvert_exporter": "python",
   "pygments_lexer": "ipython2",
   "version": "2.7.15"
  }
 },
 "nbformat": 4,
 "nbformat_minor": 2
}
